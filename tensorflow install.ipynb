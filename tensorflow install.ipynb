{
 "cells": [
  {
   "cell_type": "markdown",
   "metadata": {},
   "source": [
    "  184  df -h\n",
    "  185  sudo apt update\n",
    "  186  nvidia-ami\n",
    "  187  nvidia-smi\n",
    "  188  sudo apt dist-upgrade \n",
    "  189  sudo reboot\n",
    "  190  nvidia-smi\n",
    "  191  sudo apt update\n",
    "  192  sudo add-apt-repository ppa:graphics-drivers/ppa\n",
    "  193  sudo apt update\n",
    "  194  sudo apt install nvidia-378\n",
    "  195  sudo apt install nvidia*378\n",
    "sudo add-apt-repository ppa:graphics-drivers/ppa sudo apt-get update sudo apt-get install nvidia-361 sudo reboot\n",
    "\n",
    "  196  sudo apt install python-pip\n",
    "  197  sudo apt autoremove \n",
    "  198  sudo reboot\n",
    "  199  nvidia-smi\n",
    "  200  sudo pip install tensorflow-gpu\n",
    "  201  sudo pip install ipython\n",
    "  202  sudo pip install -U ipython\n",
    "  203  sudo pip install -U matplotlib\n",
    "  204  ipython --pylab\n",
    "  205  cd Dow\n",
    "  206  cd Downloads/\n",
    "  207  ls\n",
    "  208  sudo bash cuda_8.0.61_375.26_linux.run \n",
    "  209  gedit ~/.bashrc\n",
    "export LD_LIBRARY_PATH=\"$LD_LIBRARY_PATH:/usr/local/cuda/lib64:/usr/local/cuda/extras/CUPTI/lib64\"\n",
    "export CUDA_HOME=/usr/local/cuda\n",
    "\n",
    "\n",
    "\n",
    "\n",
    "  210  python -c \"import tensorflow\"\n",
    "  211  source ~/.bashrc\n",
    "  212  python -c \"import tensorflow\"\n",
    "  213  cd cuda/\n",
    "  214  ls\n",
    "  215  sudo cp -r include/* /usr/local/cuda/include/\n",
    "  216  sudo cp -r lib64/* /usr/local/cuda/lib64/\n",
    "  217  python -c \"import tensorflow\"\n",
    "  218  ipython --pylab\n",
    "  219  tensorboard --help\n",
    "  220  nvidia-smi\n",
    "  221  watch -n 0.2 nvidia-smi\n",
    "  222  watch nvidia-smi\n",
    "  223  watch -n 0.01 nvidia-smi\n",
    "  224  htop\n",
    "  225  sudo apt install htop\n",
    "  226  htop\n",
    "  227  history 30\n",
    "  228  history 50\n",
    " sudo pip install --upgrade https://storage.googleapis.com/tensorflow/linux/cpu/tensorflow-0.8.0-cp27-none-linux_x86_64.whl\n",
    "pip install Pillow\n",
    "\n"
   ]
  }
 ],
 "metadata": {
  "kernelspec": {
   "display_name": "Python 2",
   "language": "python",
   "name": "python2"
  },
  "language_info": {
   "codemirror_mode": {
    "name": "ipython",
    "version": 2
   },
   "file_extension": ".py",
   "mimetype": "text/x-python",
   "name": "python",
   "nbconvert_exporter": "python",
   "pygments_lexer": "ipython2",
   "version": "2.7.12"
  }
 },
 "nbformat": 4,
 "nbformat_minor": 2
}
